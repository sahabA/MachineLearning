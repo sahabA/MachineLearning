{
 "cells": [
  {
   "cell_type": "markdown",
   "metadata": {},
   "source": [
    "## Final Project: W207: Predicting Forest Cover Type: Sahab and Happiness Summer 2015"
   ]
  },
  {
   "cell_type": "markdown",
   "metadata": {},
   "source": [
    "Use cartographic variables to classify forest categories.predict the forest cover type (the predominant kind of tree cover) from strictly cartographic variables (as opposed to remotely sensed data). The actual forest cover type for a given 30 x 30 meter cell was determined from US Forest Service (USFS) Region 2 Resource Information System data. The data is in raw form (not scaled) and contains binary columns of data for qualitative independent variables such as wilderness areas and soil type. "
   ]
  },
  {
   "cell_type": "markdown",
   "metadata": {},
   "source": [
    "First Kaggle Submission: Knn"
   ]
  },
  {
   "cell_type": "markdown",
   "metadata": {},
   "source": [
    "<img src=\"Leader Board Jul 18 at 8 perc.png\">\n"
   ]
  },
  {
   "cell_type": "markdown",
   "metadata": {},
   "source": [
    "Final Kaggle Submission: After Extra Trees Forest Classifier"
   ]
  },
  {
   "cell_type": "markdown",
   "metadata": {
    "collapsed": true
   },
   "source": [
    "<img src=\"Leader Board Aug 18 at 73 perc.jpg\">"
   ]
  },
  {
   "cell_type": "markdown",
   "metadata": {},
   "source": [
    "### SK-LEARN LIBRARIES"
   ]
  },
  {
   "cell_type": "code",
   "execution_count": 7,
   "metadata": {
    "collapsed": false
   },
   "outputs": [],
   "source": [
    "# This tells matplotlib not to try opening a new window for each plot.\n",
    "%matplotlib inline\n",
    "\n",
    "import matplotlib.pyplot as plt\n",
    "import numpy as np\n",
    "import seaborn as sns\n",
    "import time\n",
    "import pandas as pd\n",
    "\n",
    "# utility\n",
    "from sklearn.pipeline import Pipeline\n",
    "\n",
    "# preprocessing \n",
    "from sklearn.decomposition import PCA\n",
    "from sklearn import preprocessing\n",
    "\n",
    "# modelling \n",
    "from numpy.linalg import inv\n",
    "from sklearn import svm, tree\n",
    "from sklearn.linear_model import LinearRegression, LogisticRegression\n",
    "from sklearn.neighbors import KNeighborsClassifier\n",
    "from sklearn.naive_bayes import BernoulliNB, MultinomialNB, GaussianNB\n",
    "from sklearn.grid_search import GridSearchCV, RandomizedSearchCV\n",
    "from matplotlib.colors import LogNorm\n",
    "from sklearn.ensemble import RandomForestClassifier, AdaBoostClassifier, ExtraTreesClassifier\n",
    "\n",
    "# clustering\n",
    "from sklearn.cluster import KMeans\n",
    "from sklearn.mixture import GMM\n",
    "\n",
    "# SK-learn libraries for evaluation.\n",
    "from sklearn.metrics import confusion_matrix, classification_report, silhouette_score\n",
    "# from sklearn import metrics\n"
   ]
  },
  {
   "cell_type": "markdown",
   "metadata": {},
   "source": [
    "###INPUT DATA"
   ]
  },
  {
   "cell_type": "code",
   "execution_count": 22,
   "metadata": {
    "collapsed": false
   },
   "outputs": [],
   "source": [
    "#load csv imports\n",
    "\n",
    "feature_names = np.loadtxt(hdr, dtype= str, delimiter = ',')\n",
    "\n",
    "trf = open(\"train.csv\")\n",
    "trf.readline()  # skip the header\n",
    "labelled_data_and_labels = np.loadtxt(trf, delimiter = ',')\n",
    "\n",
    "tef = open(\"test.csv\")\n",
    "tef.readline()  # skip the header\n",
    "test_data_raw = np.loadtxt(tef, delimiter = ',')\n",
    "\n",
    "target_names = np.array(['1 - Spruce/Fir', '2 - Lodgepole Pine', '3 - Ponderosa Pine', '4 - Cottonwood/Willow', \n",
    "                         '5 - Aspen', '6 - Douglas-fir', '7 - Krummholz'])\n",
    "\n"
   ]
  },
  {
   "cell_type": "markdown",
   "metadata": {},
   "source": [
    "####Feature names"
   ]
  },
  {
   "cell_type": "markdown",
   "metadata": {},
   "source": [
    " Id,Elevation,Aspect,Slope,Horizontal_Distance_To_Hydrology,Vertical_Distance_To_Hydrology,\n",
    " Horizontal_Distance_To_Roadways,Hillshade_9am,Hillshade_Noon,Hillshade_3pm,\n",
    " Horizontal_Distance_To_Fire_Points,Wilderness_Area1,Wilderness_Area2,Wilderness_Area3,\n",
    " Wilderness_Area4,Soil_Type1,Soil_Type2,Soil_Type3,Soil_Type4,Soil_Type5,Soil_Type6,\n",
    " Soil_Type7,Soil_Type8,Soil_Type9,Soil_Type10,Soil_Type11,Soil_Type12,Soil_Type13,\n",
    " Soil_Type14,Soil_Type15,Soil_Type16,Soil_Type17,Soil_Type18,Soil_Type19,Soil_Type20,\n",
    " Soil_Type21,Soil_Type22,Soil_Type23,Soil_Type24,Soil_Type25,Soil_Type26,Soil_Type27,\n",
    " Soil_Type28,Soil_Type29,Soil_Type30,Soil_Type31,Soil_Type32,Soil_Type33,Soil_Type34,\n",
    " Soil_Type35,Soil_Type36,Soil_Type37,Soil_Type38,Soil_Type39,Soil_Type40,Cover_Type\n",
    " \n",
    " \n"
   ]
  },
  {
   "cell_type": "markdown",
   "metadata": {},
   "source": [
    "###DESIGNATING DATA ROLES"
   ]
  },
  {
   "cell_type": "markdown",
   "metadata": {},
   "source": [
    "Shuffle the data, but make sure that the features and accompanying labels stay in sync. Shuffling helps further randomize the data before splitting, in case the order of the data isnt independent of the\n",
    "labels. We also made sur enot to inlude dummy variable ID in the analysis and modelling. "
   ]
  },
  {
   "cell_type": "code",
   "execution_count": 9,
   "metadata": {
    "collapsed": false
   },
   "outputs": [
    {
     "name": "stdout",
     "output_type": "stream",
     "text": [
      "(10000L, 54L)   (10000L,)\n",
      "(5120L, 54L)   (5120L,)\n",
      "(565892L, 54L)   (565892L, 54L)\n"
     ]
    }
   ],
   "source": [
    "# Shuffle the data, but make sure that the features and accompanying labels stay in sync.\n",
    "modelling_data_and_labels = labelled_data_and_labels \n",
    "np.random.seed(0)\n",
    "shuffle = np.random.permutation(np.arange(modelling_data_and_labels.shape[0]))\n",
    "modelling_data_and_labels = modelling_data_and_labels[shuffle]\n",
    "\n",
    "# Get rid of ID, a dummy variable, in first column\n",
    "modelling_data, modelling_labels = modelling_data_and_labels[:, 1:55], modelling_data_and_labels[:, -1]\n",
    "test_data = test_data_raw[:,1:]\n",
    "test_feature_names =  feature_names[1:55]\n",
    "\n",
    "# Split into train and dev.\n",
    "train_data, train_labels = modelling_data[:10000], modelling_labels[:10000]\n",
    "dev_data,     dev_labels = modelling_data[10000:], modelling_labels[10000:]\n",
    "\n",
    "print train_data.shape, ' ', train_labels.shape\n",
    "print dev_data.shape, ' ',  dev_labels.shape\n",
    "print test_data.shape, ' ', test_data.shape, \n",
    "# print test_feature_names\n"
   ]
  },
  {
   "cell_type": "markdown",
   "metadata": {},
   "source": [
    "###Exploring Data\n"
   ]
  },
  {
   "cell_type": "markdown",
   "metadata": {},
   "source": [
    "#### Lets Look at the data"
   ]
  },
  {
   "cell_type": "markdown",
   "metadata": {},
   "source": [
    "Explore the sparsificity of the data, as well the magnitudes of the different features for each label"
   ]
  },
  {
   "cell_type": "code",
   "execution_count": 10,
   "metadata": {
    "collapsed": false
   },
   "outputs": [
    {
     "name": "stdout",
     "output_type": "stream",
     "text": [
      "All labels\n",
      "features  [ 2749.771   157.239    16.551   227.482    51.242  1721.424   212.317\n",
      "   218.936   135.508  1509.538     0.235     0.03      0.426     0.308\n",
      "     0.026     0.04      0.063     0.056     0.01      0.042     0.        0.\n",
      "     0.001     0.142     0.028     0.015     0.031     0.011     0.\n",
      "     0.007     0.04      0.004     0.003     0.01      0.001     0.023\n",
      "     0.049     0.017     0.        0.004     0.001     0.001     0.083\n",
      "     0.047     0.023     0.046     0.04      0.001     0.006     0.001\n",
      "     0.003     0.049     0.044     0.031]\n",
      "Label 1 - Spruce/Fir \n",
      "features  [[ 3130.36    158.84     13.069   276.392    42.292  2612.911   211.22\n",
      "    223.358   144.77   1958.166     0.483     0.08      0.437     0.        0.\n",
      "      0.        0.        0.001     0.        0.        0.        0.\n",
      "      0.001     0.004     0.004     0.011     0.007     0.        0.\n",
      "      0.004     0.001     0.        0.008     0.022     0.005     0.129\n",
      "      0.176     0.057     0.        0.004     0.004     0.        0.188\n",
      "      0.035     0.052     0.11      0.084     0.        0.001     0.        0.\n",
      "      0.035     0.036     0.025]]\n",
      "Label 2 - Lodgepole Pine \n",
      "features  [[ 2921.203   151.443    13.589   280.866    46.24   2398.212   213.745\n",
      "    225.329   143.145  2111.89      0.518     0.025     0.451     0.006\n",
      "      0.        0.001     0.006     0.011     0.        0.003     0.        0.\n",
      "      0.004     0.037     0.034     0.092     0.04      0.        0.\n",
      "      0.006     0.002     0.008     0.008     0.024     0.        0.026\n",
      "      0.072     0.035     0.001     0.01      0.002     0.003     0.239\n",
      "      0.072     0.05      0.124     0.079     0.004     0.001     0.001\n",
      "      0.        0.004     0.001     0.002]]\n",
      "Label 3 - Ponderosa Pine \n",
      "features  [[ 2398.825   176.201    20.652   214.887    65.522   980.368   201.477\n",
      "    216.749   141.895   922.189     0.        0.        0.39      0.61\n",
      "      0.06      0.13      0.068     0.209     0.021     0.111     0.        0.\n",
      "      0.        0.334     0.041     0.        0.003     0.002     0.\n",
      "      0.003     0.017     0.        0.        0.        0.        0.        0.\n",
      "      0.        0.        0.        0.        0.        0.        0.        0.\n",
      "      0.002     0.        0.        0.        0.        0.        0.        0.\n",
      "      0.   ]]\n",
      "Label 4 - Cottonwood/Willow \n",
      "features  [[ 2222.746   137.598    18.306   103.628    40.475   920.971   228.038\n",
      "    217.319   112.458   859.856     0.        0.        0.        1.\n",
      "      0.069     0.042     0.365     0.059     0.017     0.115     0.        0.\n",
      "      0.        0.077     0.013     0.        0.        0.061     0.\n",
      "      0.014     0.167     0.        0.        0.        0.        0.        0.\n",
      "      0.        0.        0.        0.        0.        0.        0.        0.\n",
      "      0.        0.        0.        0.        0.        0.        0.        0.\n",
      "      0.   ]]\n",
      "Label 5 - Aspen \n",
      "features  [[ 2785.087   138.27     16.774   214.604    51.426  1318.847   223.209\n",
      "    218.173   121.434  1566.936     0.396     0.        0.604     0.        0.\n",
      "      0.029     0.        0.067     0.        0.        0.        0.        0.\n",
      "      0.032     0.074     0.        0.139     0.        0.        0.005\n",
      "      0.06      0.023     0.007     0.003     0.        0.        0.065\n",
      "      0.007     0.        0.013     0.        0.001     0.12      0.215\n",
      "      0.04      0.042     0.055     0.002     0.        0.        0.        0.\n",
      "      0.        0.   ]]\n",
      "Label 6 - Douglas-fir \n",
      "features  [[ 2422.842   180.779    19.144   156.687    44.     1059.992   193.212\n",
      "    209.5     147.436  1053.731     0.        0.        0.455     0.545\n",
      "      0.051     0.078     0.01      0.041     0.034     0.067     0.        0.\n",
      "      0.        0.5       0.033     0.        0.032     0.017     0.\n",
      "      0.018     0.038     0.        0.        0.019     0.        0.\n",
      "      0.001     0.007     0.        0.        0.        0.        0.        0.\n",
      "      0.005     0.013     0.035     0.001     0.        0.        0.        0.\n",
      "      0.        0.   ]]\n",
      "Label 7 - Krummholz \n",
      "features  [[ 3365.34    156.279    14.233   343.549    68.131  2760.846   216.178\n",
      "    222.322   136.641  2098.531     0.258     0.106     0.636     0.        0.\n",
      "      0.        0.        0.002     0.        0.        0.        0.        0.\n",
      "      0.        0.        0.        0.        0.        0.        0.        0.\n",
      "      0.        0.        0.        0.002     0.006     0.033     0.013\n",
      "      0.        0.        0.002     0.        0.035     0.009     0.012\n",
      "      0.035     0.028     0.003     0.042     0.003     0.018     0.301\n",
      "      0.268     0.186]]\n"
     ]
    }
   ],
   "source": [
    "#pretty formatting for the data\n",
    "\n",
    "np.set_printoptions(precision = 3, suppress=1)\n",
    "\n",
    "# across all data\n",
    "print 'All labels'\n",
    "print \"features \" , train_data.mean(0) # average each column for all 55 features\n",
    "\n",
    "# for reach label\n",
    "for index in range(7):\n",
    "        print \"Label %s \" %target_names[index]\n",
    "        # print \"features %s \" %train_data[train_labels==index + 1]   \n",
    "        mat_features = np.matrix(train_data[train_labels==index + 1])\n",
    "        print \"features \" , mat_features.mean(0) # average each column for all 55 features\n",
    "\n",
    "##Most of the features are zero\n",
    "## sparse sets"
   ]
  },
  {
   "cell_type": "markdown",
   "metadata": {},
   "source": [
    "Dimension Reduction should help, given how sparse the features are"
   ]
  },
  {
   "cell_type": "markdown",
   "metadata": {},
   "source": [
    "#### Fit basic models"
   ]
  },
  {
   "cell_type": "markdown",
   "metadata": {},
   "source": [
    "Define scoring function feauturing a confusion matrix to see if there is any diffferential accuracy between the labels"
   ]
  },
  {
   "cell_type": "code",
   "execution_count": 11,
   "metadata": {
    "collapsed": true
   },
   "outputs": [],
   "source": [
    "def printCMatrix(result):\n",
    "    confusionMatrix = confusion_matrix(dev_labels, result)\n",
    "    plt.figure(1, figsize=(4, 4))\n",
    "    plt.imshow(confusionMatrix, cmap=plt.cm.binary, interpolation = 'nearest')\n",
    "    plt.colorbar()\n",
    "    plt.xlabel('true value')\n",
    "    plt.ylabel('predicted value')    \n",
    "\n",
    "    print confusionMatrix"
   ]
  },
  {
   "cell_type": "markdown",
   "metadata": {},
   "source": [
    "Run a baseline model: Start with kNN classifier, iterating to get best parameters"
   ]
  },
  {
   "cell_type": "code",
   "execution_count": 7,
   "metadata": {
    "collapsed": false
   },
   "outputs": [
    {
     "name": "stdout",
     "output_type": "stream",
     "text": [
      "Mean accuracy on dev set for k = 1: 0.8318359375\n",
      "Mean accuracy on dev set for k = 2: 0.8015625\n",
      "Mean accuracy on dev set for k = 3: 0.8080078125\n",
      "Mean accuracy on dev set for k = 4: 0.79609375\n",
      "Mean accuracy on dev set for k = 5: 0.78828125\n",
      "Mean accuracy on dev set for k = 6: 0.78046875\n",
      "Mean accuracy on dev set for k = 7: 0.7771484375\n",
      "Mean accuracy on dev set for k = 8: 0.773046875\n",
      "Mean accuracy on dev set for k = 9: 0.7626953125\n",
      "Mean accuracy on dev set for k = 10: 0.7595703125\n"
     ]
    }
   ],
   "source": [
    "#Baseline\n",
    "\n",
    "k_values = [1, 2, 3, 4, 5, 6, 7, 8 , 9, 10]\n",
    "for k in k_values:\n",
    "    # get the Classifier algorithm instance\n",
    "    clf = KNeighborsClassifier(n_neighbors=k)\n",
    "    #fit the data\n",
    "    clf.fit(train_data, train_labels)\n",
    "    #get the score\n",
    "    accuracy = clf.score(dev_data, dev_labels)\n",
    "    #print the accuracy\n",
    "\n",
    "    print(\"Mean accuracy on dev set for k = %s: %s\" % (k, accuracy))\n"
   ]
  },
  {
   "cell_type": "markdown",
   "metadata": {},
   "source": [
    "Explore kNN-1 farther"
   ]
  },
  {
   "cell_type": "code",
   "execution_count": 8,
   "metadata": {
    "collapsed": false
   },
   "outputs": [
    {
     "name": "stdout",
     "output_type": "stream",
     "text": [
      "[[505 146   0   0  26   3  67]\n",
      " [146 466  23   1  66  26  10]\n",
      " [  0  18 552  45  10  87   0]\n",
      " [  0   0  17 718   0  24   0]\n",
      " [  6  22   4   0 711   3   0]\n",
      " [  2   4  58  23  10 608   0]\n",
      " [  9   5   0   0   0   0 699]]\n"
     ]
    },
    {
     "data": {
      "image/png": "[encoded data removed]",
      "text/plain": [
       "<matplotlib.figure.Figure at 0x346a240>"
      ]
     },
     "metadata": {},
     "output_type": "display_data"
    }
   ],
   "source": [
    "#Fit a 1-NN and output a confusion matrix for the dev data\n",
    "# get the Classifier algorithm instance\n",
    "neigh = KNeighborsClassifier(n_neighbors=1)\n",
    "#fit the data\n",
    "neigh.fit(train_data, train_labels)\n",
    "result = neigh.predict(dev_data)\n",
    "printCMatrix(result)    \n",
    "#sprucefir and lodgepine are the ones most confused for each other\n",
    "#2 and 3 have similar problem but on smaller scale\n",
    "#0 and 1 are also confused by the rest\n",
    "\n",
    "#should look more into that"
   ]
  },
  {
   "cell_type": "markdown",
   "metadata": {},
   "source": [
    "Define function to iterate through models"
   ]
  },
  {
   "cell_type": "code",
   "execution_count": 12,
   "metadata": {
    "collapsed": true
   },
   "outputs": [],
   "source": [
    "def check_model(model, print_confusion_matrix):\n",
    "    model.fit(train_data, train_labels)\n",
    "    score = model.score(dev_data, dev_labels)\n",
    "    print 'score:', score,'\\n'\n",
    "    result = model.predict(dev_data)\n",
    "    if print_confusion_matrix==1:\n",
    "        printCMatrix(result) \n",
    "        #print model.feature_importances_"
   ]
  },
  {
   "cell_type": "markdown",
   "metadata": {},
   "source": [
    "Iterate through different basic models under typical settings and see relative perfomance"
   ]
  },
  {
   "cell_type": "code",
   "execution_count": 9,
   "metadata": {
    "collapsed": false
   },
   "outputs": [
    {
     "name": "stdout",
     "output_type": "stream",
     "text": [
      "LinearRegression\n",
      "score: 0.394420990739 \n",
      "\n",
      "LogisticRegression\n",
      "score: 0.67421875 \n",
      "\n",
      "DecisionTree\n",
      "score: 0.6796875 \n",
      "\n",
      "BernoulliNB(alpha=.0001)\n",
      "score: 0.608984375 \n",
      "\n",
      "GaussianNB\n",
      "score: 0.477734375 \n",
      "\n",
      "DecisionTreeClassifier()\n",
      "score: 0.7947265625 \n",
      "\n",
      "RandomForestClassifier()\n",
      "score: 0.828515625 \n",
      "\n",
      "ExtraTreesClassifier()\n",
      "score: 0.858984375 \n",
      "\n",
      "AdaBoostClassifier()\n",
      "score: 0.4853515625 \n",
      "\n",
      "SVM()\n",
      "score: 0.13828125 \n",
      "\n"
     ]
    }
   ],
   "source": [
    "print \"LinearRegression\"\n",
    "check_model(LinearRegression(), print_confusion_matrix=0)\n",
    "print \"LogisticRegression\"\n",
    "check_model(LogisticRegression(), print_confusion_matrix=0)\n",
    "print \"DecisionTree\"\n",
    "check_model(LogisticRegression(), print_confusion_matrix=0)\n",
    "print \"BernoulliNB(alpha=.0001)\"\n",
    "check_model(BernoulliNB( alpha=.0001), print_confusion_matrix=0)\n",
    "print \"GaussianNB\"\n",
    "check_model(GaussianNB(), print_confusion_matrix=0)\n",
    "print 'DecisionTreeClassifier()'\n",
    "check_model(tree.DecisionTreeClassifier(), print_confusion_matrix=0)\n",
    "print 'RandomForestClassifier()'\n",
    "check_model(RandomForestClassifier() , print_confusion_matrix=0)\n",
    "#84.2 2 & 3 are less but 2 & 5ae more likely swapped\n",
    "#break three subset label 1 &2, 4& 6, 3, 5, 7\n",
    "#printCMatrix(result)\n",
    "print 'ExtraTreesClassifier()'\n",
    "check_model(ExtraTreesClassifier(n_estimators=1000, max_depth=None,\n",
    "                                                    max_features=7,\n",
    "                                                    min_samples_split=2, random_state=0,\n",
    "                                                    bootstrap=False), print_confusion_matrix=0)\n",
    "print 'AdaBoostClassifier()'\n",
    "check_model(AdaBoostClassifier(), print_confusion_matrix=0)\n",
    "print 'SVM()'\n",
    "check_model(svm.SVC(), print_confusion_matrix=0)\n"
   ]
  },
  {
   "cell_type": "markdown",
   "metadata": {},
   "source": [
    "Choose top 3 models:  Decision Tree, Random Forest, Extra-trees"
   ]
  },
  {
   "cell_type": "code",
   "execution_count": 10,
   "metadata": {
    "collapsed": false
   },
   "outputs": [
    {
     "name": "stdout",
     "output_type": "stream",
     "text": [
      "DecisionTreeClassifier()\n",
      "score: 0.794140625 \n",
      "\n",
      "[[499 176   0   0  17   2  53]\n",
      " [155 473  14   0  64  17  15]\n",
      " [  3  15 503  37  13 141   0]\n",
      " [  0   0  40 695   0  24   0]\n",
      " [ 18  36   9   0 678   5   0]\n",
      " [  5   9  93  24  10 564   0]\n",
      " [ 46  13   0   0   0   0 654]]\n"
     ]
    },
    {
     "data": {
      "image/png": "[encoded data removed]",
      "text/plain": [
       "<matplotlib.figure.Figure at 0x46807e48>"
      ]
     },
     "metadata": {},
     "output_type": "display_data"
    }
   ],
   "source": [
    "print 'DecisionTreeClassifier()'\n",
    "check_model(tree.DecisionTreeClassifier(),print_confusion_matrix=1)\n"
   ]
  },
  {
   "cell_type": "markdown",
   "metadata": {
    "collapsed": false
   },
   "source": [
    "Horizontal_Distance_To_Roadways is the most imp, and elevation is the second most imp. 3 of them are zeros.\n",
    "21, 22, 29 are not important\n",
    "'Soil_Type6' 'Soil_Type7', and soil type 14 are not imp"
   ]
  },
  {
   "cell_type": "markdown",
   "metadata": {
    "collapsed": true
   },
   "source": [
    "'Soil_Type6' 'Soil_Type7', and soil type 14 are not imp"
   ]
  },
  {
   "cell_type": "code",
   "execution_count": 11,
   "metadata": {
    "collapsed": false
   },
   "outputs": [
    {
     "name": "stdout",
     "output_type": "stream",
     "text": [
      "RandomForestClassifier()\n",
      "score: 0.828515625 \n",
      "\n",
      "[[559 113   1   0  19   3  52]\n",
      " [172 469  23   1  51  15   7]\n",
      " [  0  10 551  35   9 107   0]\n",
      " [  0   0  23 727   0   9   0]\n",
      " [  7  28  10   0 692   9   0]\n",
      " [  0   8  95  24   4 574   0]\n",
      " [ 36   5   0   0   2   0 670]]\n"
     ]
    },
    {
     "data": {
      "image/png": "[encoded data removed]",
      "text/plain": [
       "<matplotlib.figure.Figure at 0x46807a20>"
      ]
     },
     "metadata": {},
     "output_type": "display_data"
    }
   ],
   "source": [
    "print 'RandomForestClassifier()'\n",
    "check_model(RandomForestClassifier() , print_confusion_matrix=1)\n",
    "#84.2 2 & 3 are less but 2 & 5ae more likely swapped\n",
    "#break three subset label 1 &2, 4& 6, 3, 5, 7"
   ]
  },
  {
   "cell_type": "code",
   "execution_count": 12,
   "metadata": {
    "collapsed": false
   },
   "outputs": [
    {
     "name": "stdout",
     "output_type": "stream",
     "text": [
      "ExtraTreesClassifier()\n",
      "score: 0.830859375 \n",
      "\n",
      "[[551 134   0   0  19   2  41]\n",
      " [155 493  17   0  51  18   4]\n",
      " [  0   7 560  36  10  99   0]\n",
      " [  0   0  23 725   0  11   0]\n",
      " [  9  42   7   0 679   9   0]\n",
      " [  0   8  97  23   7 570   0]\n",
      " [ 30   7   0   0   0   0 676]]\n"
     ]
    },
    {
     "data": {
      "image/png": "[encoded data removed]",
      "text/plain": [
       "<matplotlib.figure.Figure at 0x53f83208>"
      ]
     },
     "metadata": {},
     "output_type": "display_data"
    }
   ],
   "source": [
    "print 'ExtraTreesClassifier()'\n",
    "check_model(ExtraTreesClassifier(),print_confusion_matrix=1)"
   ]
  },
  {
   "cell_type": "markdown",
   "metadata": {},
   "source": [
    "### PREPROCESSING & FEATURE ENGINEERING"
   ]
  },
  {
   "cell_type": "markdown",
   "metadata": {},
   "source": [
    "#### Dimension Reduction through PCA "
   ]
  },
  {
   "cell_type": "code",
   "execution_count": 13,
   "metadata": {
    "collapsed": false
   },
   "outputs": [
    {
     "data": {
      "image/png": "[encoded data removed]",
      "text/plain": [
       "<matplotlib.figure.Figure at 0xbb02668>"
      ]
     },
     "metadata": {},
     "output_type": "display_data"
    },
    {
     "name": "stdout",
     "output_type": "stream",
     "text": [
      "[ 0.724  0.948  0.983  0.995  0.999  0.999  1.     1.     1.     1.     1.\n",
      "  1.     1.     1.     1.     1.     1.     1.     1.     1.     1.     1.\n",
      "  1.     1.     1.     1.     1.     1.     1.     1.     1.     1.     1.\n",
      "  1.     1.     1.     1.     1.     1.     1.     1.     1.     1.     1.\n",
      "  1.     1.     1.     1.     1.     1.     1.     1.     1.     1.   ]\n",
      "\n",
      "Choose 7 components: 99.98 % of all variance.\n",
      "\n"
     ]
    }
   ],
   "source": [
    "pca = PCA()\n",
    "pca.fit_transform(train_data)\n",
    "\n",
    "pca_explnd_variance = pca.explained_variance_ratio_\n",
    "\n",
    "plt.figure(1, figsize=(4, 4))\n",
    "plt.clf()\n",
    "plt.plot(pca_explnd_variance,  linewidth=3, c='r', label='explained var')\n",
    "plt.plot(np.cumsum(pca_explnd_variance),  linewidth=3, c='b', label='cumm. explained var')\n",
    "plt.axis('tight')\n",
    "plt.xlabel('n components')\n",
    "plt.ylabel('explained variance ratio')\n",
    "plt.legend()\n",
    "plt.title('PCA: n key components')\n",
    "plt.show()\n",
    "\n",
    "print np.cumsum(pca_explnd_variance);\n",
    "print '\\nChoose 7 components:' ,  np.round(100*np.sum(pca_explnd_variance[0:7]), 3) , '% of all variance.\\n' \n",
    "\n",
    "pca1 = PCA(n_components=7).fit(train_data)\n",
    "reduced_train_data = pca1.transform(train_data)\n",
    "reduced_test_data = pca1.transform(test_data)\n",
    "reduced_dev_data = pca1.transform(dev_data)\n"
   ]
  },
  {
   "cell_type": "markdown",
   "metadata": {},
   "source": [
    "####Scale and Impute"
   ]
  },
  {
   "cell_type": "markdown",
   "metadata": {},
   "source": [
    "Imputing compensates for missing data, while scaling to normal makes outliers less voluble"
   ]
  },
  {
   "cell_type": "code",
   "execution_count": 14,
   "metadata": {
    "collapsed": false
   },
   "outputs": [],
   "source": [
    "#imputing i.e. substituting for missing values\n",
    "\n",
    "imp = preprocessing.Imputer(missing_values='NaN', strategy='mean', axis=0)\n",
    "imputed_train_data = imp.fit_transform(reduced_train_data) \n",
    "imputed_test_data = imp.fit_transform(reduced_test_data) \n",
    "imputed_dev_data = imp.fit_transform(reduced_dev_data)\n",
    "\n",
    "# SCALE to normal\n",
    "# scaled_train_data = preprocessing.scale(train_data) #, OR \n",
    "scaler = preprocessing.StandardScaler().fit(imputed_train_data)\n",
    "scaled_train_data = scaler.transform(imputed_train_data) \n",
    "scaled_test_data = scaler.transform(imputed_test_data) \n",
    "scaled_dev_data = scaler.transform(imputed_dev_data) "
   ]
  },
  {
   "cell_type": "markdown",
   "metadata": {
    "collapsed": true
   },
   "source": [
    "Define function to iterate chosen models on pre-processed data"
   ]
  },
  {
   "cell_type": "code",
   "execution_count": 15,
   "metadata": {
    "collapsed": false
   },
   "outputs": [],
   "source": [
    "def check_model2(model, print_confusion_matrix):\n",
    "    model.fit(scaled_train_data, train_labels)\n",
    "    score = model.score(scaled_dev_data, dev_labels)\n",
    "    print  'score:', score\n",
    "    result = model.predict(scaled_dev_data)\n",
    "    if print_confusion_matrix==1:\n",
    "        printCMatrix(result) \n",
    "        #print model.feature_importances_"
   ]
  },
  {
   "cell_type": "markdown",
   "metadata": {},
   "source": [
    "Score Random Forest and Extra-trees Classifier on scaled data"
   ]
  },
  {
   "cell_type": "code",
   "execution_count": 16,
   "metadata": {
    "collapsed": false
   },
   "outputs": [
    {
     "name": "stdout",
     "output_type": "stream",
     "text": [
      "RandomForestClassifier()\n",
      "score: 0.7931640625\n",
      "[[535 127   0   0  16   2  67]\n",
      " [169 431  31   0  58  30  19]\n",
      " [  0  24 519  38   6 125   0]\n",
      " [  0   0  27 712   0  20   0]\n",
      " [  9  51  12   0 664  10   0]\n",
      " [  1  11 109  31  12 541   0]\n",
      " [ 51   3   0   0   0   0 659]]\n"
     ]
    },
    {
     "data": {
      "image/png": "[encoded data removed]",
      "text/plain": [
       "<matplotlib.figure.Figure at 0x3d476d8>"
      ]
     },
     "metadata": {},
     "output_type": "display_data"
    }
   ],
   "source": [
    "print 'RandomForestClassifier()'\n",
    "check_model2(RandomForestClassifier(),print_confusion_matrix=1)"
   ]
  },
  {
   "cell_type": "code",
   "execution_count": 17,
   "metadata": {
    "collapsed": false
   },
   "outputs": [
    {
     "name": "stdout",
     "output_type": "stream",
     "text": [
      "ExtraTreesClassifier()\n",
      "score: 0.8541015625\n",
      "[[568 111   0   0  21   1  46]\n",
      " [142 478  25   0  56  29   8]\n",
      " [  0  16 563  27   8  98   0]\n",
      " [  0   0  12 739   0   8   0]\n",
      " [  2  22   4   0 711   7   0]\n",
      " [  0   3  54  15   6 627   0]\n",
      " [ 26   0   0   0   0   0 687]]\n"
     ]
    },
    {
     "data": {
      "image/png": "[encoded data removed]",
      "text/plain": [
       "<matplotlib.figure.Figure at 0x467cfc88>"
      ]
     },
     "metadata": {},
     "output_type": "display_data"
    }
   ],
   "source": [
    "print 'ExtraTreesClassifier()'\n",
    "check_model2(ExtraTreesClassifier(n_estimators=1000, max_depth=None,\n",
    "                                                    max_features=7,\n",
    "                                                    min_samples_split=2, random_state=0,\n",
    "                                                    bootstrap=False),print_confusion_matrix=1)"
   ]
  },
  {
   "cell_type": "markdown",
   "metadata": {},
   "source": [
    "####Explore Binarizing Features"
   ]
  },
  {
   "cell_type": "code",
   "execution_count": 18,
   "metadata": {
    "collapsed": false
   },
   "outputs": [],
   "source": [
    "binarizer = preprocessing.Binarizer()\n",
    "binarized_train_data = binarizer.fit_transform(scaled_train_data) \n",
    "binarized_test_data = binarizer.fit_transform(scaled_test_data) \n",
    "binarized_dev_data = binarizer.fit_transform(scaled_dev_data)"
   ]
  },
  {
   "cell_type": "markdown",
   "metadata": {},
   "source": [
    "Define checking function for binarized data"
   ]
  },
  {
   "cell_type": "code",
   "execution_count": 19,
   "metadata": {
    "collapsed": true
   },
   "outputs": [],
   "source": [
    "def check_model3(model, print_confusion_matrix):\n",
    "    model.fit(binarized_train_data, train_labels)\n",
    "    score = model.score(binarized_dev_data, dev_labels)\n",
    "    print  'score:', score\n",
    "    result = model.predict(binarized_dev_data)\n",
    "    if print_confusion_matrix==1:\n",
    "        printCMatrix(result) "
   ]
  },
  {
   "cell_type": "markdown",
   "metadata": {},
   "source": [
    "Test leading models after binarization"
   ]
  },
  {
   "cell_type": "code",
   "execution_count": 20,
   "metadata": {
    "collapsed": false
   },
   "outputs": [
    {
     "name": "stdout",
     "output_type": "stream",
     "text": [
      "RandomForestClassifier()\n",
      "score: 0.4435546875\n",
      "ExtraTreesClassifier()\n",
      "score: 0.4392578125\n"
     ]
    }
   ],
   "source": [
    "print 'RandomForestClassifier()'\n",
    "check_model3(RandomForestClassifier(),print_confusion_matrix=0)\n",
    "print 'ExtraTreesClassifier()'\n",
    "check_model3(ExtraTreesClassifier(n_estimators=1000, max_depth=None,\n",
    "                                                    max_features=7,\n",
    "                                                    min_samples_split=2, random_state=0,\n",
    "                                                    bootstrap=False),print_confusion_matrix=0)"
   ]
  },
  {
   "cell_type": "markdown",
   "metadata": {},
   "source": [
    "Binarization worsens performance.  Do not binarize. "
   ]
  },
  {
   "cell_type": "markdown",
   "metadata": {},
   "source": [
    "###Optimize model parameters: Extra Trees Classifier"
   ]
  },
  {
   "cell_type": "markdown",
   "metadata": {},
   "source": [
    "Do a grid search over the main parameters of the classifer, and pick the best performing parameters"
   ]
  },
  {
   "cell_type": "code",
   "execution_count": 21,
   "metadata": {
    "collapsed": false
   },
   "outputs": [
    {
     "name": "stdout",
     "output_type": "stream",
     "text": [
      "Best parameters:\n",
      "{'max_features': 'sqrt', 'n_estimators': 900, 'n_jobs': 10, 'criterion': 'entropy', 'class_weight': 'auto'}\n",
      "Accuracy: 0.848828125\n"
     ]
    },
    {
     "name": "stderr",
     "output_type": "stream",
     "text": [
      "C:\\Users\\Happiness\\AppData\\Local\\Enthought\\Canopy\\User\\lib\\site-packages\\sklearn\\grid_search.py:370: ChangedBehaviorWarning: The long-standing behavior to use the estimator's score function in GridSearchCV.score has changed. The scoring parameter is now used.\n",
      "  ChangedBehaviorWarning)\n"
     ]
    }
   ],
   "source": [
    "# TAKES 2HRS TO RUN BECAUSE OF THE SIZE OF THE DATA\n",
    "model = ExtraTreesClassifier(verbose=0, bootstrap=False)\n",
    "#parameters = { 'n_estimators': np.arange(100,600,100), 'max_features': ('auto', ) }\n",
    "\n",
    "parameters = {'n_estimators' :np.arange(100,1000,100),'criterion' :('gini', 'entropy'),\n",
    "             'max_features' :('auto','sqrt', 'log2',),'n_jobs' :np.arange(10, 100, 10),\n",
    "             'class_weight':('auto','subsample', )}\n",
    "\n",
    "gs = GridSearchCV(model, parameters, scoring='accuracy')\n",
    "gs.fit(scaled_train_data, train_labels)\n",
    "print \"Best parameters:\"\n",
    "print gs.best_params_\n",
    "\n",
    "score = gs.score(scaled_dev_data, dev_labels)\n",
    "predictions = gs.predict(scaled_dev_data)\n",
    "print \"Accuracy: %s\" % (score)\n",
    "# print(classification_report(dev_labels, predictions))\n",
    "# print confusion_matrix(dev_labels, predictions)"
   ]
  },
  {
   "cell_type": "markdown",
   "metadata": {},
   "source": [
    "####Our optimized Extra Trees Classifier, and applying the same parameters to the Random Forest Classifier ( 2nd performing model)"
   ]
  },
  {
   "cell_type": "code",
   "execution_count": 16,
   "metadata": {
    "collapsed": false
   },
   "outputs": [
    {
     "name": "stdout",
     "output_type": "stream",
     "text": [
      "ExtraTreesClassifier()\n"
     ]
    }
   ],
   "source": [
    "final_model_ETC = ExtraTreesClassifier(n_estimators=900, \n",
    "                                  max_features= 'auto',\n",
    "                                  n_jobs= 10, \n",
    "                                  criterion= 'entropy', \n",
    "                                  class_weight='auto',\n",
    "                                  bootstrap=False)\n",
    "print 'ExtraTreesClassifier()'\n",
    "check_model2(final_model_ETC, print_confusion_matrix=1)"
   ]
  },
  {
   "cell_type": "code",
   "execution_count": 10,
   "metadata": {
    "collapsed": false
   },
   "outputs": [
    {
     "name": "stdout",
     "output_type": "stream",
     "text": [
      "RandomForestClassifier()\n",
      "score: 0.84296875\n",
      "[[547 124   0   0  15   1  60]\n",
      " [139 477  29   0  52  29  12]\n",
      " [  0  15 557  30   8 102   0]\n",
      " [  0   0  14 737   0   8   0]\n",
      " [  5  21   6   0 703  11   0]\n",
      " [  0   4  62  22   7 610   0]\n",
      " [ 27   1   0   0   0   0 685]]\n"
     ]
    },
    {
     "data": {
      "image/png": "[encoded data removed]",
      "text/plain": [
       "<matplotlib.figure.Figure at 0x4670a160>"
      ]
     },
     "metadata": {},
     "output_type": "display_data"
    }
   ],
   "source": [
    "final_model_RFC = RandomForestClassifier(n_estimators=900, \n",
    "                                  max_features= 'auto',\n",
    "                                  n_jobs= 10, \n",
    "                                  criterion= 'entropy', \n",
    "                                  class_weight='auto',\n",
    "                                  bootstrap=False)\n",
    "print 'RandomForestClassifier()'\n",
    "check_model2(final_model_RFC, print_confusion_matrix=1)"
   ]
  },
  {
   "cell_type": "markdown",
   "metadata": {
    "collapsed": true
   },
   "source": [
    "###FINAL MODEL & OUTPUT \n"
   ]
  },
  {
   "cell_type": "markdown",
   "metadata": {},
   "source": [
    "For the final model, train on entire labelled data-set"
   ]
  },
  {
   "cell_type": "code",
   "execution_count": 17,
   "metadata": {
    "collapsed": false
   },
   "outputs": [
    {
     "name": "stdout",
     "output_type": "stream",
     "text": [
      "(10000L, 1L) (5120L, 1L)\n",
      "(15120L, 7L)\n",
      "(15120L,)\n"
     ]
    }
   ],
   "source": [
    "#CHOSEN CLASSIFICATION MODEL\n",
    "\n",
    "# Fit entire labelled dataset\n",
    "# recombine engineered train and dev feature data\n",
    "scaled_modelling_data = np.vstack((scaled_train_data, scaled_dev_data))\n",
    "print train_labels.reshape(-1,1).shape, dev_labels.reshape(-1,1).shape\n",
    "\n",
    "#also recombine labels\n",
    "modelling_labels = np.vstack((train_labels.reshape(-1,1), dev_labels.reshape(-1,1))).ravel()\n",
    "print scaled_modelling_data.shape\n",
    "print modelling_labels.shape"
   ]
  },
  {
   "cell_type": "markdown",
   "metadata": {},
   "source": [
    "Fit final model to all labelled training data"
   ]
  },
  {
   "cell_type": "code",
   "execution_count": 18,
   "metadata": {
    "collapsed": false
   },
   "outputs": [],
   "source": [
    "# Extra Trees Classifier\n",
    "model=final_model_ETC\n",
    "model_fit = model.fit(scaled_modelling_data, modelling_labels) # all data"
   ]
  },
  {
   "cell_type": "code",
   "execution_count": 25,
   "metadata": {
    "collapsed": false
   },
   "outputs": [],
   "source": [
    "pred_test_lbls = model_fit.predict(scaled_test_data)"
   ]
  },
  {
   "cell_type": "markdown",
   "metadata": {},
   "source": [
    "####GENERATE OUTPUT FILE FOR KAGGLE SUBMISSION"
   ]
  },
  {
   "cell_type": "code",
   "execution_count": 28,
   "metadata": {
    "collapsed": false
   },
   "outputs": [],
   "source": [
    "# recover the IDS which are important for data submission but not for modelling\n",
    "test_ids = test_data_raw[:,0]\n",
    "\n",
    "# format the numeric parts of the output file under prescribed formats\n",
    "output = np.array([test_ids, pred_test_lbls])\n",
    "output = output.T\n",
    "output.astype(int)\n",
    "\n",
    "# convert to dataframe and use Pandas export to_csv utility\n",
    "output_df = pd.DataFrame(output, columns=('Id', 'Cover_Type'))\n",
    "output_df.to_csv(\"test_out_ii.csv\", index=False, cols=['Id', 'Cover_Type'])"
   ]
  },
  {
   "cell_type": "markdown",
   "metadata": {},
   "source": [
    "##APPENDIX"
   ]
  },
  {
   "cell_type": "markdown",
   "metadata": {},
   "source": [
    "Exploring extra features, beyond key 7 components"
   ]
  },
  {
   "cell_type": "code",
   "execution_count": 18,
   "metadata": {
    "collapsed": false
   },
   "outputs": [
    {
     "name": "stdout",
     "output_type": "stream",
     "text": [
      "0.8681640625\n",
      "[[577 115   0   0  19   1  35]\n",
      " [121 524  15   1  48  23   6]\n",
      " [  0   7 584  33   9  79   0]\n",
      " [  0   0  14 733   0  12   0]\n",
      " [  3  16   5   0 715   7   0]\n",
      " [  0   1  53  24   5 622   0]\n",
      " [ 22   1   0   0   0   0 690]]\n",
      "[ 0.121  0.058  0.145  0.058  0.042  0.035  0.027  0.038  0.029  0.023\n",
      "  0.077  0.133  0.062  0.067  0.084]\n"
     ]
    },
    {
     "data": {
      "image/png": "[encoded data removed]",
      "text/plain": [
       "<matplotlib.figure.Figure at 0x61a4c2b0>"
      ]
     },
     "metadata": {},
     "output_type": "display_data"
    }
   ],
   "source": [
    "pca1 = PCA(n_components=15).fit(train_data)\n",
    "reduced_train_data = pca1.transform(train_data)\n",
    "reduced_test_data = pca1.transform(test_data)\n",
    "reduced_dev_data = pca1.transform(dev_data)\n",
    "model = ExtraTreesClassifier(n_estimators=1000, max_depth=None, \n",
    "                                                    max_features=7,\n",
    "                                                    min_samples_split=2, random_state=0,\n",
    "                                                    bootstrap=False)\n",
    "model.fit(reduced_train_data, train_labels)\n",
    "score = model.score(reduced_dev_data, dev_labels)\n",
    "print score\n",
    "result = model.predict(reduced_dev_data)\n",
    "printCMatrix(result) \n",
    "print model.feature_importances_"
   ]
  },
  {
   "cell_type": "markdown",
   "metadata": {
    "collapsed": true
   },
   "source": [
    "Explore Seperating 1 and 2, maybe 6 and 3 too"
   ]
  },
  {
   "cell_type": "code",
   "execution_count": 10,
   "metadata": {
    "collapsed": false
   },
   "outputs": [
    {
     "name": "stdout",
     "output_type": "stream",
     "text": [
      "(2835L, 15L)\n",
      "(8586L,)\n",
      "(8586L, 15L)\n",
      "(10000L,)\n"
     ]
    }
   ],
   "source": [
    "# FUTURE WORK: UNFINISHED\n",
    "type1and2_labels = np.where(np.logical_or(train_labels==1 , train_labels==2))\n",
    "#type1and2_data = reduced_train_data[type1and2_labels]\n",
    "type1and2_data = train_data[type1and2_labels]\n",
    "type3and6_labels = np.where(np.logical_or(train_labels==3, train_labels==6))\n",
    "#type3and6_data = reduced_train_data[type3and6_labels]\n",
    "type3and6_data = train_data[type3and6_labels]\n",
    "typeothers_labels = np.where(np.logical_or(train_labels==4 , train_labels==7, train_labels ==5))\n",
    "#typeothers_data = reduced_train_data[typeothers_labels]  \n",
    "typeothers_data = train_data[typeothers_labels]\n",
    "pca1 = PCA(n_components=15).fit(type1and2_data)\n",
    "reduced_train_data2 = pca1.transform(type1and2_data)\n",
    "print reduced_train_data2.shape\n",
    "pca2 = PCA(n_components=15).fit(type3and6_data)\n",
    "reduced_train_data3 = np.vstack((pca2.transform(type3and6_data), reduced_train_data2))\n",
    "reduced_train_data3.shape\n",
    "pca3 = PCA(n_components=15).fit(typeothers_data)\n",
    "reduced_train_data4 = np.vstack((pca3.transform(typeothers_data), reduced_train_data3))\n",
    "\n",
    "reduced_test_data = pca1.transform(test_data)\n",
    "reduced_dev_data = pca1.transform(dev_data)\n",
    "labels = np.append(type1and2_labels,type3and6_labels )\n",
    "labels = np.append(typeothers_labels, labels)\n",
    "print labels.shape\n",
    "#print type1and2_data.shape\n",
    "print reduced_train_data4.shape\n",
    "print train_labels.shape\n",
    "#print type3and6_data.shape\n",
    "#print typeothers_data.shape\n",
    "\n",
    "#clf1.fit(type1and2_data, np.ravel(type1and2_labels))\n",
    "\n",
    "#clf2 = ExtraTreesClassifier()\n",
    "#clf2.fit(type3and6_data, np.ravel(type3and6_labels))\n",
    "\n",
    "#clf3 = ExtraTreesClassifier()\n",
    "#clf3.fit(typeothers_data , np.ravel(typeothers_labels))\n",
    "\n",
    "model = ExtraTreesClassifier(n_estimators=1000, max_depth=None, \n",
    "                                                    max_features=7,\n",
    "                                                    min_samples_split=2, random_state=0,\n",
    "                                                    bootstrap=False)\n",
    "model.fit(reduced_train_data4, labels)\n",
    "score = model.score(reduced_dev_data, dev_labels)\n",
    "print score\n",
    "result = model.predict(reduced_dev_data)\n",
    "printCMatrix(result) \n",
    "print model.feature_importances_\n"
   ]
  }
 ],
 "metadata": {
  "celltoolbar": "Raw Cell Format",
  "kernelspec": {
   "display_name": "Python 2",
   "language": "python",
   "name": "python2"
  },
  "language_info": {
   "codemirror_mode": {
    "name": "ipython",
    "version": 2
   },
   "file_extension": ".py",
   "mimetype": "text/x-python",
   "name": "python",
   "nbconvert_exporter": "python",
   "pygments_lexer": "ipython2",
   "version": "2.7.9"
  }
 },
 "nbformat": 4,
 "nbformat_minor": 0
}
