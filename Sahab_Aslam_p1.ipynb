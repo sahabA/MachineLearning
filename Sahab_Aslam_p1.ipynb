{
 "cells": [
  {
   "cell_type": "markdown",
   "metadata": {},
   "source": [
    "# Project 1: Digit Classification with KNN and Naive Bayes"
   ]
  },
  {
   "cell_type": "markdown",
   "metadata": {},
   "source": [
    "In this project, you'll implement your own image recognition system for classifying digits. Read through the code and the instructions carefully and add your own code where indicated. Each problem can be addressed succinctly with the included packages -- please don't add any more. Grading will be based on writing clean, commented code, along with a few short answers.\n",
    "\n",
    "As always, you're welcome to work on the project in groups and discuss ideas on the course wall, but <b> please prepare your own write-up (with your own code). </b>\n",
    "\n",
    "If you're interested, check out these links related to digit recognition:\n",
    "\n",
    "Yann Lecun's MNIST benchmarks: http://yann.lecun.com/exdb/mnist/\n",
    "\n",
    "Stanford Streetview research and data: http://ufldl.stanford.edu/housenumbers/"
   ]
  },
  {
   "cell_type": "code",
   "execution_count": 160,
   "metadata": {
    "collapsed": false
   },
   "outputs": [
    {
     "name": "stdout",
     "output_type": "stream",
     "text": [
      "foo\n"
     ]
    }
   ],
   "source": [
    "# This tells matplotlib not to try opening a new window for each plot.\n",
    "%matplotlib inline\n",
    "\n",
    "# Import a bunch of libraries.\n",
    "import time\n",
    "import numpy as np\n",
    "import matplotlib.pyplot as plt\n",
    "from matplotlib.ticker import MultipleLocator\n",
    "from sklearn.pipeline import Pipeline\n",
    "from sklearn.datasets import fetch_mldata\n",
    "from sklearn.neighbors import KNeighborsClassifier\n",
    "from sklearn.metrics import confusion_matrix\n",
    "from sklearn.linear_model import LinearRegression\n",
    "from sklearn.naive_bayes import BernoulliNB\n",
    "from sklearn.naive_bayes import MultinomialNB\n",
    "from sklearn.naive_bayes import GaussianNB\n",
    "from sklearn.grid_search import GridSearchCV\n",
    "from sklearn.metrics import classification_report\n",
    "\n",
    "# Set the randomizer seed so results are the same each time.\n",
    "np.random.seed(0)\n",
    "\n",
    "print 'foo'"
   ]
  },
  {
   "cell_type": "markdown",
   "metadata": {},
   "source": [
    "Load the data. Notice that we are splitting the data into training, development, and test. We also have a small subset of the training data called mini_train_data and mini_train_labels that you should use in all the experiments below, unless otherwise noted."
   ]
  },
  {
   "cell_type": "code",
   "execution_count": 161,
   "metadata": {
    "collapsed": false
   },
   "outputs": [
    {
     "name": "stdout",
     "output_type": "stream",
     "text": [
      "foo\n",
      "data shape:  (70000L, 784L)\n",
      "label shape: (70000L,)\n",
      "foo\n"
     ]
    }
   ],
   "source": [
    "# Load the digit data either from mldata.org, or once downloaded to data_home, from disk. The data is about 53MB so this cell\n",
    "# should take a while the first time your run it.\n",
    "print 'foo'\n",
    "mnist = fetch_mldata('MNIST original', data_home='~/datasets/training.csv')\n",
    "X, Y = mnist.data, mnist.target\n",
    "\n",
    "# Rescale grayscale values to [0,1].\n",
    "X = X / 255.0\n",
    "\n",
    "# Shuffle the input: create a random permutation of the integers between 0 and the number of data points and apply this\n",
    "# permutation to X and Y.\n",
    "# NOTE: Each time you run this cell, you'll re-shuffle the data, resulting in a different ordering.\n",
    "shuffle = np.random.permutation(np.arange(X.shape[0]))\n",
    "X, Y = X[shuffle], Y[shuffle]\n",
    "\n",
    "print 'data shape: ', X.shape\n",
    "print 'label shape:', Y.shape\n",
    "print 'foo'\n",
    "\n",
    "# Set some variables to hold test, dev, and training data.\n",
    "test_data, test_labels = X[61000:], Y[61000:]\n",
    "dev_data, dev_labels = X[60000:61000], Y[60000:61000]\n",
    "train_data, train_labels = X[:60000], Y[:60000]\n",
    "mini_train_data, mini_train_labels = X[:1000], Y[:1000]\n",
    "#mini_train_labels[:9,]"
   ]
  },
  {
   "cell_type": "markdown",
   "metadata": {},
   "source": [
    "(1) Create a 10x10 grid to visualize 10 examples of each digit. Python hints:\n",
    "\n",
    "- plt.rc() for setting the colormap, for example to black and white\n",
    "- plt.subplot() for creating subplots\n",
    "- plt.imshow() for rendering a matrix\n",
    "- np.array.reshape() for reshaping a 1D feature vector into a 2D matrix (for rendering)"
   ]
  },
  {
   "cell_type": "markdown",
   "metadata": {
    "collapsed": false
   },
   "source": [
    "def P1(num_examples=10):\n",
    "\n",
    "    fig = plt.figure(figsize=(10,10))\n",
    "\n",
    "    cell = 0 #index for cell location\n",
    "    for num in range(num_examples): \n",
    "       d_index = np.where(mini_train_labels==num) #get indexes where label is num\n",
    "\n",
    "       for j in range(10): #for 10 rows that match the index\n",
    "           cell += 1\n",
    "           figur = fig.add_subplot(10,10,cell)\n",
    "\n",
    "           #reshape the data row to 28x28\n",
    "           # d = np.reshape(mini_train_data[d_index[0][j]],(28,-1))\n",
    "\n",
    "           #create image\n",
    "           figur.imshow(np.reshape(mini_train_data[d_index[0][j]],(28,-1), cmap=plt.cm.grey_r))\n",
    "           #turn off axis\n",
    "           plt.axis(\"off\")\n",
    "       #end for j\n",
    "    #end for i\n",
    "\n",
    "    plt.show()\n",
    "    print 'foo'\n",
    "\n",
    "\n",
    "\n",
    "    \n",
    "\n",
    "P1(10)\n"
   ]
  },
  {
   "cell_type": "code",
   "execution_count": 374,
   "metadata": {
    "collapsed": false,
    "scrolled": true
   },
   "outputs": [
    {
     "data": {
      "image/png": "[encoded data removed]",
      "text/plain": [
       "<matplotlib.figure.Figure at 0x1bad5358>"
      ]
     },
     "metadata": {},
     "output_type": "display_data"
    }
   ],
   "source": [
    "def P1(num_examples=10):\n",
    "    #size of the figure\n",
    "    fig = plt.figure(figsize=(num_examples,num_examples))\n",
    "    \n",
    "    plt.title('%s examples of each digit from 0-9' %num_examples)\n",
    "    #i helps with positioning on the grid\n",
    "    i = 1\n",
    "    for digit in range(10): \n",
    "       # get the indices for all digits in an order\n",
    "        digits = np.where(mini_train_labels==digit) \n",
    "\n",
    "        #now print 10 each of those digits\n",
    "        for j in range(num_examples): \n",
    "           img = fig.add_subplot(num_examples,num_examples,i)\n",
    "           img.imshow(np.reshape(mini_train_data[digits[0][j]],(28,28)), cmap=plt.cm.gray_r, interpolation='nearest')\n",
    "           plt.axis(\"off\")        \n",
    "           i += 1\n",
    "\n",
    "    plt.show()\n",
    "P1(10)"
   ]
  },
  {
   "cell_type": "markdown",
   "metadata": {},
   "source": [
    "(2) Evaluate a K-Nearest-Neighbors model with k = [1,3,5,7,9] using the mini training set. Report accuracy on the dev set. For k=1, show precision, recall, and F1 for each label. Which is the most difficult digit?\n",
    "\n",
    "- KNeighborsClassifier() for fitting and predicting\n",
    "- classification_report() for producing precision, recall, F1 results"
   ]
  },
  {
   "cell_type": "code",
   "execution_count": 385,
   "metadata": {
    "collapsed": false
   },
   "outputs": [
    {
     "name": "stdout",
     "output_type": "stream",
     "text": [
      "Mean accuracy on dev set for k = 1: 0.888\n",
      "             precision    recall  f1-score   support\n",
      "\n",
      "        0.0       0.91      0.98      0.94        99\n",
      "        1.0       0.89      1.00      0.94       105\n",
      "        2.0       0.99      0.79      0.88       102\n",
      "        3.0       0.77      0.87      0.82        86\n",
      "        4.0       0.89      0.82      0.85       104\n",
      "        5.0       0.93      0.84      0.88        91\n",
      "        6.0       0.94      0.96      0.95        98\n",
      "        7.0       0.89      0.92      0.90       113\n",
      "        8.0       0.94      0.88      0.91        96\n",
      "        9.0       0.78      0.82      0.80       106\n",
      "\n",
      "avg / total       0.89      0.89      0.89      1000\n",
      "\n",
      "Mean accuracy on dev set for k = 3: 0.878\n",
      "Mean accuracy on dev set for k = 5: 0.869\n",
      "Mean accuracy on dev set for k = 7: 0.865\n",
      "Mean accuracy on dev set for k = 9: 0.863\n"
     ]
    }
   ],
   "source": [
    "def P2(k_values):\n",
    "\n",
    "### STUDENT START ###\n",
    "\n",
    "    for k in k_values:\n",
    "        # get the Classifier algorithm instance\n",
    "        clf = KNeighborsClassifier(n_neighbors=k)\n",
    "        #fit the data\n",
    "        clf.fit(mini_train_data, mini_train_labels)\n",
    "        #get the score\n",
    "        accuracy = clf.score(dev_data, dev_labels)\n",
    "        #print the accuaracy\n",
    "        \n",
    "        print(\"Mean accuracy on dev set for k = %s: %s\" % (k, accuracy))\n",
    "        #  part b of ps2\n",
    "        if (k == 1):\n",
    "                result = clf.predict(dev_data)\n",
    "                print (classification_report(dev_labels, result))\n",
    "\n",
    "\n",
    "### STUDENT END ###\n",
    "\n",
    "\n",
    "\n",
    "k_values = [1, 3, 5, 7, 9]\n",
    "P2(k_values)\n",
    "\n",
    "\n",
    "#Answer part 3: which i dificult? 9 with the lowest f1-score 0.78"
   ]
  },
  {
   "cell_type": "markdown",
   "metadata": {},
   "source": [
    "ANSWER: part 3: which i dificult? 9 with the lowest f1-score 0.78\n"
   ]
  },
  {
   "cell_type": "markdown",
   "metadata": {},
   "source": [
    "(3) Using k=1, report dev set accuracy for the training set sizes below. Also, measure the amount of time needed for prediction with each training size.\n",
    "\n",
    "- time.time() gives a wall clock value you can use for timing operations"
   ]
  },
  {
   "cell_type": "code",
   "execution_count": 414,
   "metadata": {
    "collapsed": false
   },
   "outputs": [
    {
     "name": "stdout",
     "output_type": "stream",
     "text": [
      "Train size: 100\n",
      "Mean accuracy = 0.72\n",
      "Time taken: 0.44 sec\n",
      "\n",
      "\n",
      "Train size: 200\n",
      "Mean accuracy = 0.786\n",
      "Time taken: 0.92 sec\n",
      "\n",
      "\n",
      "Train size: 400\n",
      "Mean accuracy = 0.841\n",
      "Time taken: 1.68 sec\n",
      "\n",
      "\n",
      "Train size: 800\n",
      "Mean accuracy = 0.884\n",
      "Time taken: 2.00 sec\n",
      "\n",
      "\n",
      "Train size: 1600\n",
      "Mean accuracy = 0.902\n",
      "Time taken: 5.25 sec\n",
      "\n",
      "\n",
      "Train size: 3200\n",
      "Mean accuracy = 0.926\n",
      "Time taken: 11.00 sec\n",
      "\n",
      "\n",
      "Train size: 6400\n",
      "Mean accuracy = 0.937\n",
      "Time taken: 7.77 sec\n",
      "\n",
      "\n",
      "Train size: 12800\n",
      "Mean accuracy = 0.959\n",
      "Time taken: 29.08 sec\n",
      "\n",
      "\n",
      "Train size: 25000\n",
      "Mean accuracy = 0.97\n",
      "Time taken: 58.07 sec\n",
      "\n",
      "\n"
     ]
    }
   ],
   "source": [
    "def P3(train_sizes, accuracies):\n",
    "\n",
    "### STUDENT START ###\n",
    "#do the same as P3 but for slective size of training set\n",
    "\n",
    "    for size in train_sizes:\n",
    "        \n",
    "        print \"Train size: %s\" %size\n",
    "        \n",
    "        # time the operations\n",
    "        time_start = time.time()\n",
    "        \n",
    "        clf = KNeighborsClassifier(n_neighbors=1)\n",
    "        \n",
    "        #fit the data\n",
    "        clf.fit(train_data[:size], train_labels[:size])\n",
    "        \n",
    "      \n",
    "        #get the score\n",
    "        accuracy = clf.score(dev_data, dev_labels)\n",
    "        \n",
    "         #record time\n",
    "        time_end = time.time()\n",
    "        \n",
    "        #print the accuaracy    \n",
    "        print(\"Mean accuracy = %s\" % ( accuracy))  \n",
    "        \n",
    "        #need for future\n",
    "        accuracies.append(accuracy)\n",
    "        \n",
    "        \n",
    "        print \"Time taken: %.2f sec\" % (time_end - time_start) #make float a double\n",
    "        print \"\\n\"\n",
    "        \n",
    "        \n",
    "       \n",
    "\n",
    "### STUDENT END ###\n",
    "\n",
    "train_sizes = [100, 200, 400, 800, 1600, 3200, 6400, 12800, 25000]\n",
    "accuracies = []\n",
    "P3(train_sizes, accuracies)\n"
   ]
  },
  {
   "cell_type": "markdown",
   "metadata": {},
   "source": [
    "(4) Fit a regression model that predicts accuracy from training size. What does it predict for n=60000? What's wrong with using regression here? Can you apply a transformation that makes the predictions more reasonable?\n",
    "\n",
    "- Remember that the sklearn fit() functions take an input matrix X and output vector Y. So each input example in X is a vector, even if it contains only a single value."
   ]
  },
  {
   "cell_type": "code",
   "execution_count": 430,
   "metadata": {
    "collapsed": false
   },
   "outputs": [
    {
     "name": "stdout",
     "output_type": "stream",
     "text": [
      "It predicts [ 1.24307226] for n = 60000 \n",
      "It predicts [ 1.03386514] for n = 60000 \n"
     ]
    },
    {
     "data": {
      "image/png": "[encoded data removed]",
      "text/plain": [
       "<matplotlib.figure.Figure at 0x19cb32b0>"
      ]
     },
     "metadata": {},
     "output_type": "display_data"
    }
   ],
   "source": [
    "def P4():\n",
    "\n",
    "### STUDENT START ###\n",
    "    n = 60000\n",
    "    lr = LinearRegression()\n",
    "\n",
    "    x = train_sizes\n",
    "    x = np.transpose(np.atleast_2d(x))\n",
    "    y = accuracies\n",
    "    plt.scatter(x, y)\n",
    "   # plt.show\n",
    "    lr.fit(x, y)\n",
    "    y_result = lr.predict(n)\n",
    "    \n",
    "    print\"It predicts %s for n = 60000 \" %y_result \n",
    "    \n",
    "    #from sklearn.linear_model.logistic import LogisticRegression\n",
    "    #so that gave us 1.2 , accuracy greater than 1\n",
    "    #let's use logit to restrict it bewteen 0 and 1\n",
    "    #get a transformations\n",
    "    #lr = LogisticRegression()\n",
    "    lr2 = LinearRegression()\n",
    "    lr2.fit(np.log(np.sqrt(x)), y)\n",
    "    y_predicted = lr2.predict(np.log(np.sqrt(n)))\n",
    "    plt.scatter(np.log(x), y)\n",
    "    print\"It predicts %s for n = 60000 \" %y_predicted \n",
    "    \n",
    "  \n",
    "    \n",
    "### STUDENT END ###\n",
    "\n",
    "P4()\n"
   ]
  },
  {
   "cell_type": "markdown",
   "metadata": {},
   "source": [
    "ANSWER: Accuracy was greater than 1. I tried log, it seemed to lower it a bit, but still came out to be slightly greater than 1."
   ]
  },
  {
   "cell_type": "markdown",
   "metadata": {},
   "source": [
    "Fit a 1-NN and output a confusion matrix for the dev data. Use the confusion matrix to identify the most confused pair of digits, and display a few example mistakes.\n",
    "\n",
    "- confusion_matrix() produces a confusion matrix"
   ]
  },
  {
   "cell_type": "code",
   "execution_count": 464,
   "metadata": {
    "collapsed": false,
    "scrolled": true
   },
   "outputs": [
    {
     "name": "stdout",
     "output_type": "stream",
     "text": [
      "[[ 97   0   0   0   0   0   2   0   0   0]\n",
      " [  0 105   0   0   0   0   0   0   0   0]\n",
      " [  4   4  81   4   0   0   0   4   3   2]\n",
      " [  1   0   0  75   0   3   0   3   1   3]\n",
      " [  0   2   0   0  85   0   3   0   0  14]\n",
      " [  2   0   0   9   0  76   0   1   1   2]\n",
      " [  1   1   1   0   1   0  94   0   0   0]\n",
      " [  1   4   0   1   1   0   0 104   0   2]\n",
      " [  0   2   0   5   0   2   1   0  84   2]\n",
      " [  1   0   0   3   9   1   0   5   0  87]]\n",
      "It was 4.0 printed as 9.0 \n"
     ]
    },
    {
     "data": {
      "image/png": "[encoded data removed]",
      "text/plain": [
       "<matplotlib.figure.Figure at 0x23246d30>"
      ]
     },
     "metadata": {},
     "output_type": "display_data"
    },
    {
     "data": {
      "image/png": "[encoded data removed]",
      "text/plain": [
       "<matplotlib.figure.Figure at 0x37352668>"
      ]
     },
     "metadata": {},
     "output_type": "display_data"
    }
   ],
   "source": [
    "def P5():\n",
    "\n",
    "### STUDENT START ###\n",
    "#paart a: Fit a 1-NN and output a confusion matrix for the dev data\n",
    "    # get the Classifier algorithm instance\n",
    "    neigh = KNeighborsClassifier(n_neighbors=1)\n",
    "    #fit the data\n",
    "    neigh.fit(mini_train_data, mini_train_labels)\n",
    "    result = neigh.predict(dev_data)\n",
    "    confusionMatrix = confusion_matrix(dev_labels, result)\n",
    "    plt.imshow(confusionMatrix, cmap=plt.cm.binary, interpolation = 'nearest')\n",
    "    plt.colorbar()\n",
    "    plt.xlabel('true value')\n",
    "    plt.ylabel('predicted value')    \n",
    "    \n",
    "    print confusionMatrix #4 is the mos confusing- with 12 classified as 9\n",
    "    \n",
    "\n",
    "    \n",
    "   # print result\n",
    "\n",
    "        \n",
    "    \n",
    "    four = np.where(dev_labels==4) \n",
    "    nineResult = np.where(result==9)  \n",
    "\n",
    "    \n",
    "    fig = plt.figure(figsize=(10,10))\n",
    "    \n",
    "    for j in range(90): \n",
    "        if(four[0][j] == nineResult[0][j]):\n",
    "            print \"It was %s printed as %s \"% (dev_labels[four[0][j]], result[nineResult[0][j]])\n",
    "            \n",
    "            img = fig.add_subplot(10,10,1)\n",
    "        \n",
    "            img.imshow(np.reshape(dev_data[nineResult[0][j]],(28,28)), cmap=plt.cm.gray_r, interpolation='nearest')\n",
    "            plt.axis(\"off\")\n",
    "            plt.show()\n",
    "            break;\n",
    "\n",
    "   \n",
    "    \n",
    "    #print some 4's label as 9\n",
    "    \n",
    "### STUDENT END ###\n",
    "\n",
    "P5()"
   ]
  },
  {
   "cell_type": "markdown",
   "metadata": {},
   "source": [
    "(6) A common image processing technique is to smooth an image by blurring. The idea is that the value of a particular pixel is estimated as the weighted combination of the original value and the values around it. Typically, the blurring is Gaussian -- that is, the weight of a pixel's influence is determined by a Gaussian function over the distance to the relevant pixel.\n",
    "\n",
    "Implement a simplified Gaussian blur by just using the 8 neighboring pixels: the smoothed value of a pixel is a weighted combination of the original value and the 8 neighboring values. Try applying your blur filter in 3 ways:\n",
    "- preprocess the training data but not the dev data\n",
    "- preprocess the dev data but not the training data\n",
    "- preprocess both training and dev data\n",
    "\n",
    "Note that there are Guassian blur filters available, for example in scipy.ndimage.filters. You're welcome to experiment with those, but you are likely to get the best results with the simplified version I described above."
   ]
  },
  {
   "cell_type": "code",
   "execution_count": 432,
   "metadata": {
    "collapsed": false
   },
   "outputs": [
    {
     "name": "stdout",
     "output_type": "stream",
     "text": [
      "Classifier: Training data blurred...\n",
      "Accuracy: 0.882\n",
      "             precision    recall  f1-score   support\n",
      "\n",
      "        0.0       0.91      0.98      0.94        99\n",
      "        1.0       0.91      0.99      0.95       105\n",
      "        2.0       0.97      0.82      0.89       102\n",
      "        3.0       0.76      0.76      0.76        86\n",
      "        4.0       0.92      0.80      0.86       104\n",
      "        5.0       0.95      0.79      0.86        91\n",
      "        6.0       0.91      0.96      0.94        98\n",
      "        7.0       0.88      0.89      0.89       113\n",
      "        8.0       0.85      0.92      0.88        96\n",
      "        9.0       0.79      0.89      0.84       106\n",
      "\n",
      "avg / total       0.89      0.88      0.88      1000\n",
      "\n",
      "Classifier: Dev data blurred...\n",
      "Accuracy: 0.825\n",
      "             precision    recall  f1-score   support\n",
      "\n",
      "        0.0       0.96      0.93      0.94        99\n",
      "        1.0       0.63      0.99      0.77       105\n",
      "        2.0       0.94      0.75      0.83       102\n",
      "        3.0       0.70      0.79      0.74        86\n",
      "        4.0       0.90      0.70      0.79       104\n",
      "        5.0       0.75      0.85      0.79        91\n",
      "        6.0       0.90      0.93      0.91        98\n",
      "        7.0       0.90      0.85      0.87       113\n",
      "        8.0       0.98      0.59      0.74        96\n",
      "        9.0       0.81      0.86      0.83       106\n",
      "\n",
      "avg / total       0.85      0.82      0.83      1000\n",
      "\n",
      "Classifier: Dev data blurred...\n",
      "Accuracy: 0.869\n",
      "             precision    recall  f1-score   support\n",
      "\n",
      "        0.0       0.87      0.98      0.92        99\n",
      "        1.0       0.90      0.98      0.94       105\n",
      "        2.0       0.96      0.80      0.88       102\n",
      "        3.0       0.76      0.73      0.75        86\n",
      "        4.0       0.87      0.79      0.83       104\n",
      "        5.0       0.89      0.80      0.84        91\n",
      "        6.0       0.90      0.97      0.93        98\n",
      "        7.0       0.92      0.88      0.90       113\n",
      "        8.0       0.86      0.84      0.85        96\n",
      "        9.0       0.77      0.89      0.82       106\n",
      "\n",
      "avg / total       0.87      0.87      0.87      1000\n",
      "\n"
     ]
    },
    {
     "data": {
      "image/png": "[encoded data removed]",
      "text/plain": [
       "<matplotlib.figure.Figure at 0x21ad06a0>"
      ]
     },
     "metadata": {},
     "output_type": "display_data"
    }
   ],
   "source": [
    "def P6():\n",
    "    \n",
    "### STUDENT START ### sigma 1.5 \n",
    "    gaussian_train = []\n",
    "    gaussian_dev = []\n",
    "    from scipy import ndimage\n",
    "    \n",
    "    #blur the data\n",
    "    for i in range(len(mini_train_data)):\n",
    "        gaussian_train.append(ndimage.gaussian_filter(mini_train_data[i,], sigma=2))\n",
    "    \n",
    "    for i in range(len(dev_data)):\n",
    "        gaussian_dev.append(ndimage.gaussian_filter(dev_data[i,], sigma=2))\n",
    "    fig = plt.figure(figsize=(10,10))\n",
    "    \n",
    "    img = fig.add_subplot(10,10,1)\n",
    "    img.imshow(mini_train_data[4,].reshape(28,28), cmap=plt.cm.gray_r, interpolation='nearest')\n",
    "    plt.axis(\"off\")\n",
    "    img = fig.add_subplot(10,10,2)\n",
    "    img.imshow(gaussian_train[4].reshape(28,28), cmap=plt.cm.gray_r, interpolation='nearest')\n",
    "    plt.axis(\"off\")\n",
    "   # plt.show()\n",
    "    clf = KNeighborsClassifier(n_neighbors=1)\n",
    "    clf.fit(gaussian_train, mini_train_labels)\n",
    "    result = clf.predict(dev_data)\n",
    "    \n",
    "    score = clf.score(dev_data, dev_labels)\n",
    "    print \"Classifier: Training data blurred...\"\n",
    "    print \"Accuracy: %s\" % (score)\n",
    "    print classification_report(dev_labels, result)\n",
    "    \n",
    "    clf2 = KNeighborsClassifier(n_neighbors=1)\n",
    "    clf2.fit(mini_train_data, mini_train_labels)\n",
    "    result = clf2.predict(gaussian_dev)\n",
    "    \n",
    "    score = clf2.score(gaussian_dev, dev_labels)\n",
    "    print \"Classifier: Dev data blurred...\"\n",
    "    print \"Accuracy: %s\" % (score)\n",
    "    print classification_report(dev_labels, result)\n",
    "    \n",
    "    clf3 = KNeighborsClassifier(n_neighbors=1)\n",
    "    clf3.fit(gaussian_train, mini_train_labels)\n",
    "    result = clf3.predict(gaussian_dev)\n",
    "    \n",
    "    score = clf3.score(gaussian_dev, dev_labels)\n",
    "    print \"Classifier: Dev data blurred...\"\n",
    "    print \"Accuracy: %s\" % (score)\n",
    "    print classification_report(dev_labels, result)\n",
    "    \n",
    "    \n",
    "\n",
    "### STUDENT END ###\n",
    "\n",
    "P6()"
   ]
  },
  {
   "cell_type": "markdown",
   "metadata": {},
   "source": [
    "ANSWER: Highest accuracy was obtained from when only training data was blurred.\n",
    "\n"
   ]
  },
  {
   "cell_type": "markdown",
   "metadata": {},
   "source": [
    "(7) Fit a Naive Bayes classifier and report accuracy on the dev data. Remember that Naive Bayes estimates P(feature|label). While sklearn can handle real-valued features, let's start by mapping the pixel values to either 0 or 1. You can do this as a preprocessing step, or with the binarize argument. With binary-valued features, you can use BernoulliNB. Next try mapping the pixel values to 0, 1, or 2, representing white, grey, or black. This mapping requires MultinomialNB. Does the multi-class version improve the results? Why or why not?"
   ]
  },
  {
   "cell_type": "code",
   "execution_count": 434,
   "metadata": {
    "collapsed": false
   },
   "outputs": [
    {
     "name": "stdout",
     "output_type": "stream",
     "text": [
      "Binarize = default Accuracy: 0.806\n",
      "\n",
      " Binarize = .5 Accuracy: 0.817\n",
      "\n",
      " Binarize = 0.4 Accuracy: 0.821\n",
      "\n",
      "Binarize = 0.35 Accuracy: 0.823\n",
      "\n",
      "Multinomial Accuracy: 0.794\n"
     ]
    }
   ],
   "source": [
    "def P7():\n",
    "\n",
    "### STUDENT START ###\n",
    "    #Fit a Naive Bayes classifier and report accuracy on the dev data.\n",
    "    \n",
    "    bern = BernoulliNB()\n",
    "    bern.fit(mini_train_data, mini_train_labels)\n",
    "    result = bern.predict(dev_data)\n",
    "    accuracy = bern.score(dev_data, dev_labels)\n",
    "    print \"Binarize = default Accuracy: %s\" % accuracy\n",
    "    \n",
    "    bern = BernoulliNB(binarize=0.5)\n",
    "    bern.fit(mini_train_data, mini_train_labels)\n",
    "    result = bern.predict(dev_data)\n",
    "    accuracy = bern.score(dev_data, dev_labels)\n",
    "    print \"\\n Binarize = .5 Accuracy: %s\" % accuracy\n",
    "    \n",
    "    bern = BernoulliNB(binarize=0.4)\n",
    "    bern.fit(mini_train_data, mini_train_labels)\n",
    "    result = bern.predict(dev_data)\n",
    "    accuracy = bern.score(dev_data, dev_labels)\n",
    "    print \"\\n Binarize = 0.4 Accuracy: %s\" % accuracy\n",
    "    \n",
    "    bern = BernoulliNB(binarize=0.35)\n",
    "    bern.fit(mini_train_data, mini_train_labels)\n",
    "    result = bern.predict(dev_data)\n",
    "    accuracy = bern.score(dev_data, dev_labels)\n",
    "    print \"\\nBinarize = 0.35 Accuracy: %s\" % accuracy\n",
    "    \n",
    "    #we have found the best binarize value\n",
    "    \n",
    "    bern = MultinomialNB()\n",
    "    bern.fit(mini_train_data, mini_train_labels)\n",
    "    result = bern.predict(dev_data)\n",
    "    accuracy = bern.score(dev_data, dev_labels)\n",
    "    print \"\\nMultinomial Accuracy: %s\" % accuracy    \n",
    "    #look for args\n",
    "   \n",
    "    \n",
    "    \n",
    "    #print classification report. No improvement with multi\n",
    "    \n",
    "\n",
    "\n",
    "    \n",
    "### STUDENT END ###\n",
    "\n",
    "P7()"
   ]
  },
  {
   "cell_type": "markdown",
   "metadata": {},
   "source": [
    "\n",
    "ANSWER: Multinomial accuracy is lower than Binomial. I also ound the value 0.35 as the best value for binarize.\n"
   ]
  },
  {
   "cell_type": "markdown",
   "metadata": {},
   "source": [
    "(8) Use GridSearchCV to perform a search over values of alpha (the Laplace smoothing parameter) in a Bernoulli NB model. What is the best value for alpha? What is the accuracy when alpha=0? Is this what you'd expect?\n",
    "\n",
    "- Note that GridSearchCV partitions the training data so the results will be a bit different than if you used the dev data for evaluation."
   ]
  },
  {
   "cell_type": "code",
   "execution_count": 435,
   "metadata": {
    "collapsed": false
   },
   "outputs": [
    {
     "name": "stdout",
     "output_type": "stream",
     "text": [
      "mean: 0.09200, std: 0.00080, params: {'alpha': 0.0}\n",
      "mean: 0.82000, std: 0.02286, params: {'alpha': 0.0001}\n",
      "mean: 0.82000, std: 0.01865, params: {'alpha': 0.001}\n",
      "mean: 0.82100, std: 0.01791, params: {'alpha': 0.01}\n",
      "mean: 0.81800, std: 0.01631, params: {'alpha': 0.1}\n",
      "mean: 0.81600, std: 0.00896, params: {'alpha': 0.5}\n",
      "mean: 0.80200, std: 0.01590, params: {'alpha': 1.0}\n",
      "mean: 0.79800, std: 0.01555, params: {'alpha': 2.0}\n",
      "mean: 0.75700, std: 0.01733, params: {'alpha': 10.0}\n"
     ]
    }
   ],
   "source": [
    "def P8(alphas):\n",
    "\n",
    "### STUDENT START ###\n",
    "    clf = BernoulliNB(binarize=0.35)\n",
    "    gridSearch = GridSearchCV(clf, alphas)\n",
    "    gridSearch.fit(mini_train_data, mini_train_labels)\n",
    "    scores= gridSearch.grid_scores_\n",
    "    for index, value in enumerate(scores):\n",
    "        print value\n",
    "    \n",
    "    return gridSearch\n",
    "\n",
    "\n",
    "### STUDENT END ###\n",
    "\n",
    "alphas = {'alpha': [0.0, 0.0001, 0.001, 0.01, 0.1, 0.5, 1.0, 2.0, 10.0]}\n",
    "nb = P8(alphas)\n",
    "#print nb"
   ]
  },
  {
   "cell_type": "code",
   "execution_count": 264,
   "metadata": {
    "collapsed": false
   },
   "outputs": [
    {
     "name": "stdout",
     "output_type": "stream",
     "text": [
      "{'alpha': 0.0001}\n"
     ]
    }
   ],
   "source": [
    "print nb.best_params_\n",
    "\n",
    "# The best value for alpha is 0.01 with an accuracy of .82 (alphas 0.001, and 0.0001 are also in tie with alpha =0.01)\n",
    "# The accuracy is 0.092 when alpha is 0\n"
   ]
  },
  {
   "cell_type": "markdown",
   "metadata": {},
   "source": [
    "ANSWER: The best value for alpha is 0.01 with an accuracy of .82 (alphas 0.001, and 0.0001 are also in tie with alpha =0.01)\n",
    "The accuracy is 0.092 when alpha is 0\n",
    "\n"
   ]
  },
  {
   "cell_type": "markdown",
   "metadata": {},
   "source": [
    "(9) Try training a model using GuassianNB, which is intended for real-valued features, and evaluate on the dev data. You'll notice that it doesn't work so well. Try to diagnose the problem. You should be able to find a simple fix that returns the accuracy to around the same rate as BernoulliNB. Explain your solution.\n",
    "\n",
    "Hint: examine the parameters estimated by the fit() method, theta\\_ and sigma\\_."
   ]
  },
  {
   "cell_type": "code",
   "execution_count": 504,
   "metadata": {
    "collapsed": false
   },
   "outputs": [
    {
     "name": "stdout",
     "output_type": "stream",
     "text": [
      "Accuracy for GNB 0.627\n",
      "Classification resport\n",
      "             precision    recall  f1-score   support\n",
      "\n",
      "        0.0       0.76      0.84      0.80        99\n",
      "        1.0       0.82      0.89      0.85       105\n",
      "        2.0       0.62      0.40      0.49       102\n",
      "        3.0       0.62      0.47      0.53        86\n",
      "        4.0       0.80      0.39      0.53       104\n",
      "        5.0       0.52      0.37      0.44        91\n",
      "        6.0       0.69      0.88      0.77        98\n",
      "        7.0       0.85      0.50      0.63       113\n",
      "        8.0       0.41      0.61      0.49        96\n",
      "        9.0       0.47      0.88      0.61       106\n",
      "\n",
      "avg / total       0.66      0.63      0.62      1000\n",
      "\n",
      "Accuracy for GNB 0.8\n"
     ]
    }
   ],
   "source": [
    "def P9():\n",
    "\n",
    "### STUDENT END ###\n",
    "    gnb = GaussianNB()\n",
    "    gnb.fit(mini_train_data, mini_train_labels)\n",
    "    result = gnb.predict(dev_data)\n",
    "    print \"Accuracy for GNB %s\" %(gnb.score(dev_data, dev_labels)) #.495\n",
    "    print \"Classification resport\"\n",
    "    print classification_report(dev_labels, result) #4, 8 and 2 have low f1\n",
    "   \n",
    "    #these values yield the max accuracy\n",
    "       \n",
    "    gnb.sigma_ = gnb.sigma_ + 0.01\n",
    "    gnb.theta_ = gnb.theta_ - 0.05\n",
    "    result = gnb.predict(dev_data)\n",
    "    print \"Accuracy for GNB %s\" %(gnb.score(dev_data, dev_labels))\n",
    "    \n",
    "### STUDENT END ###\n",
    "\n",
    "gnb = P9()"
   ]
  },
  {
   "cell_type": "markdown",
   "metadata": {},
   "source": [
    "ANSWER:"
   ]
  },
  {
   "cell_type": "markdown",
   "metadata": {},
   "source": [
    "(10) Because Naive Bayes is a generative model, we can use the trained model to generate digits. Train a BernoulliNB model and then generate a 10x20 grid with 20 examples of each digit. Because you're using a Bernoulli model, each pixel output will be either 0 or 1. How do the generated digits compare to the training digits?\n",
    "\n",
    "- You can use np.random.rand() to generate random numbers from a uniform distribution\n",
    "- The estimated probability of each pixel is stored in feature\\_log\\_prob\\_. You'll need to use np.exp() to convert a log probability back to a probability."
   ]
  },
  {
   "cell_type": "code",
   "execution_count": 265,
   "metadata": {
    "collapsed": false
   },
   "outputs": [
    {
     "data": {
      "image/png": "[encoded data removed]",
      "text/plain": [
       "<matplotlib.figure.Figure at 0x2ec675c0>"
      ]
     },
     "metadata": {},
     "output_type": "display_data"
    }
   ],
   "source": [
    "def P10(num_examples):\n",
    "\n",
    "### STUDENT START ###\n",
    "    nb = BernoulliNB(binarize=0.38, alpha =0.01)\n",
    "    nb.fit(mini_train_data, mini_train_labels)\n",
    "    \n",
    "   # print nb.feature_log_prob_.shape\n",
    "    \n",
    "    fig = plt.figure(figsize=(20,40))\n",
    "    \n",
    "    plt.title('%s examples of each digit from 0-9' %num_examples)\n",
    "     \n",
    "   # print len(nb.feature_log_prob_)\n",
    "    d = np.random.rand(784)\n",
    "   # print d.shape\n",
    "    digits = []\n",
    "    loc = 1\n",
    "    for digit in range(10): \n",
    "        for j in range(num_examples):\n",
    "            rd = np.random.rand(784) \n",
    "        \n",
    "            for i, val in enumerate(rd):\n",
    "                pixelProb = np.exp(nb.feature_log_prob_[digit][i])\n",
    "                if(val < pixelProb):\n",
    "                    rd[i] = 1\n",
    "                else:\n",
    "                    rd[i] = 0\n",
    "           \n",
    "            img = fig.add_subplot(10,20,loc)\n",
    "            img.imshow(rd.reshape(28,28), cmap=plt.cm.gray_r, interpolation='nearest')\n",
    "            plt.axis(\"off\")\n",
    "            loc += 1\n",
    "\n",
    "# Not so great with the curves of the digits (8 nd 5 are the worst). Very blotchy. I wonder if I feed this back in a classifier, what would teh accuracy be.\n",
    "\n",
    "\n",
    "### STUDENT END ###\n",
    "\n",
    "P10(20)"
   ]
  },
  {
   "cell_type": "markdown",
   "metadata": {},
   "source": [
    "ANSWER: Not so great with the curves of the digits (8 nd 5 are the worst). Very blotchy. I wonder if I feed this back in a classifier, what would teh accuracy be.\n",
    "\n",
    "\n"
   ]
  },
  {
   "cell_type": "markdown",
   "metadata": {},
   "source": [
    "(11) Remember that a strongly calibrated classifier is rougly 90% accurate when the posterior probability of the predicted class is 0.9. A weakly calibrated classifier is more accurate when the posterior is 90% than when it is 80%. A poorly calibrated classifier has no positive correlation between posterior and accuracy.\n",
    "\n",
    "Train a BernoulliNB model with a reasonable alpha value. For each posterior bucket (think of a bin in a histogram), you want to estimate the classifier's accuracy. So for each prediction, find the bucket the maximum posterior belongs to and update the \"correct\" and \"total\" counters.\n",
    "\n",
    "How would you characterize the calibration for the Naive Bayes model?"
   ]
  },
  {
   "cell_type": "code",
   "execution_count": 508,
   "metadata": {
    "collapsed": false
   },
   "outputs": [
    {
     "name": "stdout",
     "output_type": "stream",
     "text": [
      "p(pred) <= 0.5000000000000    total =   0    accuracy = 0.000\n",
      "p(pred) <= 0.9000000000000    total =   0    accuracy = 0.000\n",
      "p(pred) <= 0.9990000000000    total =   0    accuracy = 0.000\n",
      "p(pred) <= 0.9999900000000    total =   0    accuracy = 0.000\n",
      "p(pred) <= 0.9999999000000    total =   0    accuracy = 0.000\n",
      "p(pred) <= 0.9999999990000    total =   0    accuracy = 0.000\n",
      "p(pred) <= 0.9999999999900    total =   0    accuracy = 0.000\n",
      "p(pred) <= 0.9999999999999    total =   0    accuracy = 0.000\n",
      "p(pred) <= 1.0000000000000    total =   0    accuracy = 0.000\n"
     ]
    }
   ],
   "source": [
    "\n",
    "def P11(buckets, correct, total):\n",
    "    \n",
    "### STUDENT START ###\n",
    "\n",
    "    clf = BernoulliNB(binarize = 0.35)\n",
    "    clf.fit(mini_train_data, mini_train_labels)\n",
    "    maximum = [0 for i in dev_data]\n",
    "    k = 0\n",
    "\n",
    "\n",
    "                    \n",
    "        # val = np.where(np.greater_equal(buckets,np.amax(probabilities[0]))) \n",
    "\n",
    "                \n",
    "### STUDENT END ###\n",
    "\n",
    "\n",
    "\n",
    "\n",
    "buckets = [0.5, 0.9, 0.999, 0.99999, 0.9999999, 0.999999999, 0.99999999999, 0.9999999999999, 1.0]\n",
    "correct = [0 for i in buckets]\n",
    "total = [0 for i in buckets]\n",
    "#print correct\n",
    "\n",
    "\n",
    "P11(buckets, correct, total)\n",
    "\n",
    "for i in range(len(buckets)):\n",
    "    accuracy = 0.0\n",
    "    if (total[i] > 0): accuracy = correct[i] / total[i]\n",
    "    print 'p(pred) <= %.13f    total = %3d    accuracy = %.3f' %(buckets[i], total[i], accuracy)"
   ]
  },
  {
   "cell_type": "markdown",
   "metadata": {},
   "source": [
    "ANSWER:"
   ]
  },
  {
   "cell_type": "markdown",
   "metadata": {},
   "source": [
    "(12) EXTRA CREDIT\n",
    "\n",
    "Try designing extra features to see if you can improve the performance of Naive Bayes on the dev set. Here are a few ideas to get you started:\n",
    "- Try summing the pixel values in each row and each column.\n",
    "- Try counting the number of enclosed regions; 8 usually has 2 enclosed regions, 9 usually has 1, and 7 usually has 0.\n",
    "\n",
    "Make sure you comment your code well!"
   ]
  },
  {
   "cell_type": "code",
   "execution_count": 18,
   "metadata": {
    "collapsed": false
   },
   "outputs": [],
   "source": [
    "#def P12():\n",
    "\n",
    "### STUDENT START ###\n",
    "\n",
    "\n",
    "### STUDENT END ###\n",
    "\n",
    "#P12()"
   ]
  }
 ],
 "metadata": {
  "kernelspec": {
   "display_name": "Python 2",
   "language": "python",
   "name": "python2"
  },
  "language_info": {
   "codemirror_mode": {
    "name": "ipython",
    "version": 2
   },
   "file_extension": ".py",
   "mimetype": "text/x-python",
   "name": "python",
   "nbconvert_exporter": "python",
   "pygments_lexer": "ipython2",
   "version": "2.7.9"
  }
 },
 "nbformat": 4,
 "nbformat_minor": 0
}
